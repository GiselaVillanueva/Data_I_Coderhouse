{
  "nbformat": 4,
  "nbformat_minor": 0,
  "metadata": {
    "colab": {
      "provenance": []
    },
    "kernelspec": {
      "name": "python3",
      "display_name": "Python 3"
    },
    "language_info": {
      "name": "python"
    }
  },
  "cells": [
    {
      "cell_type": "code",
      "source": [
        "import pandas as pd\n",
        "import seaborn as sn\n",
        "import matplotlib.pyplot as plt\n",
        "import numpy as np\n",
        "from sklearn.datasets import load_iris\n",
        "from sklearn.feature_selection import VarianceThreshold\n",
        "\n",
        "from sklearn.model_selection import train_test_split, cross_val_score\n",
        "from sklearn.preprocessing import LabelEncoder, StandardScaler\n",
        "from sklearn.linear_model import LogisticRegression\n",
        "from sklearn.neighbors import KNeighborsClassifier\n",
        "from sklearn.tree import DecisionTreeClassifier\n",
        "from sklearn.ensemble import RandomForestClassifier\n",
        "from sklearn.svm import SVC\n",
        "from sklearn.metrics import classification_report, confusion_matrix"
      ],
      "metadata": {
        "id": "GbwR_mC-kSRj"
      },
      "execution_count": 60,
      "outputs": []
    },
    {
      "cell_type": "markdown",
      "source": [
        "El siguiente dataframe nos muestra datos relevados sobre un número relevante de estadounidenses, y se les consulta acerca de su salud en general y su estado cardíaco en particular. El mismo estaría pensado para identificar posibles patrones (por ejemplo: ¿el índice de masa corporal es un factor de importancia para los infartos?). Es importante aclarar que, en la siguiente muestra, hay individuos que han tenido infartos, como algunos que no. Sobre eso hablaremos en los primeros gráficos.\n",
        "\n",
        "Algunos de los campos principales son:\n",
        "HadHeartAttack: nos indica si el individuo tuvo o no un infarto.\n",
        "Sex: género.\n",
        "BMI: índice de masa corporal.\n",
        "GeneralHealth (Fair, Good, etc.): nos indica la salud en general.\n",
        "Hay muchos más campos, relacionados principalmente con el estilo de vida de los individuos (actividad física, consumo de alcohol, consumo de tabaco, etc.).\n",
        "\n",
        "\n",
        "*Nota: dado el tamaño del dataset, el mismo fue subido a un repositorio público de GitHub, mediante Git LFS, y compartido con su enlace correspondiente (ubicado en el primer bloque de código)*"
      ],
      "metadata": {
        "id": "rd1MTMXXmqC-"
      }
    },
    {
      "cell_type": "code",
      "execution_count": 61,
      "metadata": {
        "id": "rk7QTyLRkCGI"
      },
      "outputs": [],
      "source": [
        "data = pd.read_csv(\"https://media.githubusercontent.com/media/GiselaVillanueva/Taller_II/main/OneDrive/Desktop/Taller_II/heart_2022_no_nans.csv\", sep = \",\")"
      ]
    },
    {
      "cell_type": "markdown",
      "source": [
        "*Nota: tomaremos solamente las primeras 100 filas del dataset, para hacerlo procesable (de lo contrario, la última parte, del algoritmo de clasificación, puede tardar horas).*"
      ],
      "metadata": {
        "id": "zG1U2dJ8WCEd"
      }
    },
    {
      "cell_type": "code",
      "source": [
        "data = data.head(100)"
      ],
      "metadata": {
        "id": "mcDnGfasWQng"
      },
      "execution_count": 62,
      "outputs": []
    },
    {
      "cell_type": "code",
      "source": [
        "data.head()"
      ],
      "metadata": {
        "colab": {
          "base_uri": "https://localhost:8080/",
          "height": 429
        },
        "id": "jPBPrHSHcS19",
        "outputId": "52a8f9c6-65b8-497c-844a-62becdef56df"
      },
      "execution_count": 63,
      "outputs": [
        {
          "output_type": "execute_result",
          "data": {
            "text/plain": [
              "     State     Sex GeneralHealth  PhysicalHealthDays  MentalHealthDays  \\\n",
              "0  Alabama  Female     Very good                 4.0               0.0   \n",
              "1  Alabama    Male     Very good                 0.0               0.0   \n",
              "2  Alabama    Male     Very good                 0.0               0.0   \n",
              "3  Alabama  Female          Fair                 5.0               0.0   \n",
              "4  Alabama  Female          Good                 3.0              15.0   \n",
              "\n",
              "                                     LastCheckupTime PhysicalActivities  \\\n",
              "0  Within past year (anytime less than 12 months ...                Yes   \n",
              "1  Within past year (anytime less than 12 months ...                Yes   \n",
              "2  Within past year (anytime less than 12 months ...                 No   \n",
              "3  Within past year (anytime less than 12 months ...                Yes   \n",
              "4  Within past year (anytime less than 12 months ...                Yes   \n",
              "\n",
              "   SleepHours            RemovedTeeth HadHeartAttack  ... HeightInMeters  \\\n",
              "0         9.0            None of them             No  ...           1.60   \n",
              "1         6.0            None of them             No  ...           1.78   \n",
              "2         8.0  6 or more, but not all             No  ...           1.85   \n",
              "3         9.0            None of them             No  ...           1.70   \n",
              "4         5.0                  1 to 5             No  ...           1.55   \n",
              "\n",
              "  WeightInKilograms    BMI AlcoholDrinkers HIVTesting FluVaxLast12  \\\n",
              "0             71.67  27.99              No         No          Yes   \n",
              "1             95.25  30.13              No         No          Yes   \n",
              "2            108.86  31.66             Yes         No           No   \n",
              "3             90.72  31.32              No         No          Yes   \n",
              "4             79.38  33.07              No         No          Yes   \n",
              "\n",
              "  PneumoVaxEver                                  TetanusLast10Tdap  \\\n",
              "0           Yes                                 Yes, received Tdap   \n",
              "1           Yes  Yes, received tetanus shot but not sure what type   \n",
              "2           Yes  No, did not receive any tetanus shot in the pa...   \n",
              "3           Yes  No, did not receive any tetanus shot in the pa...   \n",
              "4           Yes  No, did not receive any tetanus shot in the pa...   \n",
              "\n",
              "  HighRiskLastYear CovidPos  \n",
              "0               No       No  \n",
              "1               No       No  \n",
              "2               No      Yes  \n",
              "3               No      Yes  \n",
              "4               No       No  \n",
              "\n",
              "[5 rows x 40 columns]"
            ],
            "text/html": [
              "\n",
              "  <div id=\"df-f7f19e73-c2da-4308-a95b-4e33704a6ea0\" class=\"colab-df-container\">\n",
              "    <div>\n",
              "<style scoped>\n",
              "    .dataframe tbody tr th:only-of-type {\n",
              "        vertical-align: middle;\n",
              "    }\n",
              "\n",
              "    .dataframe tbody tr th {\n",
              "        vertical-align: top;\n",
              "    }\n",
              "\n",
              "    .dataframe thead th {\n",
              "        text-align: right;\n",
              "    }\n",
              "</style>\n",
              "<table border=\"1\" class=\"dataframe\">\n",
              "  <thead>\n",
              "    <tr style=\"text-align: right;\">\n",
              "      <th></th>\n",
              "      <th>State</th>\n",
              "      <th>Sex</th>\n",
              "      <th>GeneralHealth</th>\n",
              "      <th>PhysicalHealthDays</th>\n",
              "      <th>MentalHealthDays</th>\n",
              "      <th>LastCheckupTime</th>\n",
              "      <th>PhysicalActivities</th>\n",
              "      <th>SleepHours</th>\n",
              "      <th>RemovedTeeth</th>\n",
              "      <th>HadHeartAttack</th>\n",
              "      <th>...</th>\n",
              "      <th>HeightInMeters</th>\n",
              "      <th>WeightInKilograms</th>\n",
              "      <th>BMI</th>\n",
              "      <th>AlcoholDrinkers</th>\n",
              "      <th>HIVTesting</th>\n",
              "      <th>FluVaxLast12</th>\n",
              "      <th>PneumoVaxEver</th>\n",
              "      <th>TetanusLast10Tdap</th>\n",
              "      <th>HighRiskLastYear</th>\n",
              "      <th>CovidPos</th>\n",
              "    </tr>\n",
              "  </thead>\n",
              "  <tbody>\n",
              "    <tr>\n",
              "      <th>0</th>\n",
              "      <td>Alabama</td>\n",
              "      <td>Female</td>\n",
              "      <td>Very good</td>\n",
              "      <td>4.0</td>\n",
              "      <td>0.0</td>\n",
              "      <td>Within past year (anytime less than 12 months ...</td>\n",
              "      <td>Yes</td>\n",
              "      <td>9.0</td>\n",
              "      <td>None of them</td>\n",
              "      <td>No</td>\n",
              "      <td>...</td>\n",
              "      <td>1.60</td>\n",
              "      <td>71.67</td>\n",
              "      <td>27.99</td>\n",
              "      <td>No</td>\n",
              "      <td>No</td>\n",
              "      <td>Yes</td>\n",
              "      <td>Yes</td>\n",
              "      <td>Yes, received Tdap</td>\n",
              "      <td>No</td>\n",
              "      <td>No</td>\n",
              "    </tr>\n",
              "    <tr>\n",
              "      <th>1</th>\n",
              "      <td>Alabama</td>\n",
              "      <td>Male</td>\n",
              "      <td>Very good</td>\n",
              "      <td>0.0</td>\n",
              "      <td>0.0</td>\n",
              "      <td>Within past year (anytime less than 12 months ...</td>\n",
              "      <td>Yes</td>\n",
              "      <td>6.0</td>\n",
              "      <td>None of them</td>\n",
              "      <td>No</td>\n",
              "      <td>...</td>\n",
              "      <td>1.78</td>\n",
              "      <td>95.25</td>\n",
              "      <td>30.13</td>\n",
              "      <td>No</td>\n",
              "      <td>No</td>\n",
              "      <td>Yes</td>\n",
              "      <td>Yes</td>\n",
              "      <td>Yes, received tetanus shot but not sure what type</td>\n",
              "      <td>No</td>\n",
              "      <td>No</td>\n",
              "    </tr>\n",
              "    <tr>\n",
              "      <th>2</th>\n",
              "      <td>Alabama</td>\n",
              "      <td>Male</td>\n",
              "      <td>Very good</td>\n",
              "      <td>0.0</td>\n",
              "      <td>0.0</td>\n",
              "      <td>Within past year (anytime less than 12 months ...</td>\n",
              "      <td>No</td>\n",
              "      <td>8.0</td>\n",
              "      <td>6 or more, but not all</td>\n",
              "      <td>No</td>\n",
              "      <td>...</td>\n",
              "      <td>1.85</td>\n",
              "      <td>108.86</td>\n",
              "      <td>31.66</td>\n",
              "      <td>Yes</td>\n",
              "      <td>No</td>\n",
              "      <td>No</td>\n",
              "      <td>Yes</td>\n",
              "      <td>No, did not receive any tetanus shot in the pa...</td>\n",
              "      <td>No</td>\n",
              "      <td>Yes</td>\n",
              "    </tr>\n",
              "    <tr>\n",
              "      <th>3</th>\n",
              "      <td>Alabama</td>\n",
              "      <td>Female</td>\n",
              "      <td>Fair</td>\n",
              "      <td>5.0</td>\n",
              "      <td>0.0</td>\n",
              "      <td>Within past year (anytime less than 12 months ...</td>\n",
              "      <td>Yes</td>\n",
              "      <td>9.0</td>\n",
              "      <td>None of them</td>\n",
              "      <td>No</td>\n",
              "      <td>...</td>\n",
              "      <td>1.70</td>\n",
              "      <td>90.72</td>\n",
              "      <td>31.32</td>\n",
              "      <td>No</td>\n",
              "      <td>No</td>\n",
              "      <td>Yes</td>\n",
              "      <td>Yes</td>\n",
              "      <td>No, did not receive any tetanus shot in the pa...</td>\n",
              "      <td>No</td>\n",
              "      <td>Yes</td>\n",
              "    </tr>\n",
              "    <tr>\n",
              "      <th>4</th>\n",
              "      <td>Alabama</td>\n",
              "      <td>Female</td>\n",
              "      <td>Good</td>\n",
              "      <td>3.0</td>\n",
              "      <td>15.0</td>\n",
              "      <td>Within past year (anytime less than 12 months ...</td>\n",
              "      <td>Yes</td>\n",
              "      <td>5.0</td>\n",
              "      <td>1 to 5</td>\n",
              "      <td>No</td>\n",
              "      <td>...</td>\n",
              "      <td>1.55</td>\n",
              "      <td>79.38</td>\n",
              "      <td>33.07</td>\n",
              "      <td>No</td>\n",
              "      <td>No</td>\n",
              "      <td>Yes</td>\n",
              "      <td>Yes</td>\n",
              "      <td>No, did not receive any tetanus shot in the pa...</td>\n",
              "      <td>No</td>\n",
              "      <td>No</td>\n",
              "    </tr>\n",
              "  </tbody>\n",
              "</table>\n",
              "<p>5 rows × 40 columns</p>\n",
              "</div>\n",
              "    <div class=\"colab-df-buttons\">\n",
              "\n",
              "  <div class=\"colab-df-container\">\n",
              "    <button class=\"colab-df-convert\" onclick=\"convertToInteractive('df-f7f19e73-c2da-4308-a95b-4e33704a6ea0')\"\n",
              "            title=\"Convert this dataframe to an interactive table.\"\n",
              "            style=\"display:none;\">\n",
              "\n",
              "  <svg xmlns=\"http://www.w3.org/2000/svg\" height=\"24px\" viewBox=\"0 -960 960 960\">\n",
              "    <path d=\"M120-120v-720h720v720H120Zm60-500h600v-160H180v160Zm220 220h160v-160H400v160Zm0 220h160v-160H400v160ZM180-400h160v-160H180v160Zm440 0h160v-160H620v160ZM180-180h160v-160H180v160Zm440 0h160v-160H620v160Z\"/>\n",
              "  </svg>\n",
              "    </button>\n",
              "\n",
              "  <style>\n",
              "    .colab-df-container {\n",
              "      display:flex;\n",
              "      gap: 12px;\n",
              "    }\n",
              "\n",
              "    .colab-df-convert {\n",
              "      background-color: #E8F0FE;\n",
              "      border: none;\n",
              "      border-radius: 50%;\n",
              "      cursor: pointer;\n",
              "      display: none;\n",
              "      fill: #1967D2;\n",
              "      height: 32px;\n",
              "      padding: 0 0 0 0;\n",
              "      width: 32px;\n",
              "    }\n",
              "\n",
              "    .colab-df-convert:hover {\n",
              "      background-color: #E2EBFA;\n",
              "      box-shadow: 0px 1px 2px rgba(60, 64, 67, 0.3), 0px 1px 3px 1px rgba(60, 64, 67, 0.15);\n",
              "      fill: #174EA6;\n",
              "    }\n",
              "\n",
              "    .colab-df-buttons div {\n",
              "      margin-bottom: 4px;\n",
              "    }\n",
              "\n",
              "    [theme=dark] .colab-df-convert {\n",
              "      background-color: #3B4455;\n",
              "      fill: #D2E3FC;\n",
              "    }\n",
              "\n",
              "    [theme=dark] .colab-df-convert:hover {\n",
              "      background-color: #434B5C;\n",
              "      box-shadow: 0px 1px 3px 1px rgba(0, 0, 0, 0.15);\n",
              "      filter: drop-shadow(0px 1px 2px rgba(0, 0, 0, 0.3));\n",
              "      fill: #FFFFFF;\n",
              "    }\n",
              "  </style>\n",
              "\n",
              "    <script>\n",
              "      const buttonEl =\n",
              "        document.querySelector('#df-f7f19e73-c2da-4308-a95b-4e33704a6ea0 button.colab-df-convert');\n",
              "      buttonEl.style.display =\n",
              "        google.colab.kernel.accessAllowed ? 'block' : 'none';\n",
              "\n",
              "      async function convertToInteractive(key) {\n",
              "        const element = document.querySelector('#df-f7f19e73-c2da-4308-a95b-4e33704a6ea0');\n",
              "        const dataTable =\n",
              "          await google.colab.kernel.invokeFunction('convertToInteractive',\n",
              "                                                    [key], {});\n",
              "        if (!dataTable) return;\n",
              "\n",
              "        const docLinkHtml = 'Like what you see? Visit the ' +\n",
              "          '<a target=\"_blank\" href=https://colab.research.google.com/notebooks/data_table.ipynb>data table notebook</a>'\n",
              "          + ' to learn more about interactive tables.';\n",
              "        element.innerHTML = '';\n",
              "        dataTable['output_type'] = 'display_data';\n",
              "        await google.colab.output.renderOutput(dataTable, element);\n",
              "        const docLink = document.createElement('div');\n",
              "        docLink.innerHTML = docLinkHtml;\n",
              "        element.appendChild(docLink);\n",
              "      }\n",
              "    </script>\n",
              "  </div>\n",
              "\n",
              "\n",
              "<div id=\"df-e93b84a1-0237-4ba7-9682-b138081096e2\">\n",
              "  <button class=\"colab-df-quickchart\" onclick=\"quickchart('df-e93b84a1-0237-4ba7-9682-b138081096e2')\"\n",
              "            title=\"Suggest charts\"\n",
              "            style=\"display:none;\">\n",
              "\n",
              "<svg xmlns=\"http://www.w3.org/2000/svg\" height=\"24px\"viewBox=\"0 0 24 24\"\n",
              "     width=\"24px\">\n",
              "    <g>\n",
              "        <path d=\"M19 3H5c-1.1 0-2 .9-2 2v14c0 1.1.9 2 2 2h14c1.1 0 2-.9 2-2V5c0-1.1-.9-2-2-2zM9 17H7v-7h2v7zm4 0h-2V7h2v10zm4 0h-2v-4h2v4z\"/>\n",
              "    </g>\n",
              "</svg>\n",
              "  </button>\n",
              "\n",
              "<style>\n",
              "  .colab-df-quickchart {\n",
              "      --bg-color: #E8F0FE;\n",
              "      --fill-color: #1967D2;\n",
              "      --hover-bg-color: #E2EBFA;\n",
              "      --hover-fill-color: #174EA6;\n",
              "      --disabled-fill-color: #AAA;\n",
              "      --disabled-bg-color: #DDD;\n",
              "  }\n",
              "\n",
              "  [theme=dark] .colab-df-quickchart {\n",
              "      --bg-color: #3B4455;\n",
              "      --fill-color: #D2E3FC;\n",
              "      --hover-bg-color: #434B5C;\n",
              "      --hover-fill-color: #FFFFFF;\n",
              "      --disabled-bg-color: #3B4455;\n",
              "      --disabled-fill-color: #666;\n",
              "  }\n",
              "\n",
              "  .colab-df-quickchart {\n",
              "    background-color: var(--bg-color);\n",
              "    border: none;\n",
              "    border-radius: 50%;\n",
              "    cursor: pointer;\n",
              "    display: none;\n",
              "    fill: var(--fill-color);\n",
              "    height: 32px;\n",
              "    padding: 0;\n",
              "    width: 32px;\n",
              "  }\n",
              "\n",
              "  .colab-df-quickchart:hover {\n",
              "    background-color: var(--hover-bg-color);\n",
              "    box-shadow: 0 1px 2px rgba(60, 64, 67, 0.3), 0 1px 3px 1px rgba(60, 64, 67, 0.15);\n",
              "    fill: var(--button-hover-fill-color);\n",
              "  }\n",
              "\n",
              "  .colab-df-quickchart-complete:disabled,\n",
              "  .colab-df-quickchart-complete:disabled:hover {\n",
              "    background-color: var(--disabled-bg-color);\n",
              "    fill: var(--disabled-fill-color);\n",
              "    box-shadow: none;\n",
              "  }\n",
              "\n",
              "  .colab-df-spinner {\n",
              "    border: 2px solid var(--fill-color);\n",
              "    border-color: transparent;\n",
              "    border-bottom-color: var(--fill-color);\n",
              "    animation:\n",
              "      spin 1s steps(1) infinite;\n",
              "  }\n",
              "\n",
              "  @keyframes spin {\n",
              "    0% {\n",
              "      border-color: transparent;\n",
              "      border-bottom-color: var(--fill-color);\n",
              "      border-left-color: var(--fill-color);\n",
              "    }\n",
              "    20% {\n",
              "      border-color: transparent;\n",
              "      border-left-color: var(--fill-color);\n",
              "      border-top-color: var(--fill-color);\n",
              "    }\n",
              "    30% {\n",
              "      border-color: transparent;\n",
              "      border-left-color: var(--fill-color);\n",
              "      border-top-color: var(--fill-color);\n",
              "      border-right-color: var(--fill-color);\n",
              "    }\n",
              "    40% {\n",
              "      border-color: transparent;\n",
              "      border-right-color: var(--fill-color);\n",
              "      border-top-color: var(--fill-color);\n",
              "    }\n",
              "    60% {\n",
              "      border-color: transparent;\n",
              "      border-right-color: var(--fill-color);\n",
              "    }\n",
              "    80% {\n",
              "      border-color: transparent;\n",
              "      border-right-color: var(--fill-color);\n",
              "      border-bottom-color: var(--fill-color);\n",
              "    }\n",
              "    90% {\n",
              "      border-color: transparent;\n",
              "      border-bottom-color: var(--fill-color);\n",
              "    }\n",
              "  }\n",
              "</style>\n",
              "\n",
              "  <script>\n",
              "    async function quickchart(key) {\n",
              "      const quickchartButtonEl =\n",
              "        document.querySelector('#' + key + ' button');\n",
              "      quickchartButtonEl.disabled = true;  // To prevent multiple clicks.\n",
              "      quickchartButtonEl.classList.add('colab-df-spinner');\n",
              "      try {\n",
              "        const charts = await google.colab.kernel.invokeFunction(\n",
              "            'suggestCharts', [key], {});\n",
              "      } catch (error) {\n",
              "        console.error('Error during call to suggestCharts:', error);\n",
              "      }\n",
              "      quickchartButtonEl.classList.remove('colab-df-spinner');\n",
              "      quickchartButtonEl.classList.add('colab-df-quickchart-complete');\n",
              "    }\n",
              "    (() => {\n",
              "      let quickchartButtonEl =\n",
              "        document.querySelector('#df-e93b84a1-0237-4ba7-9682-b138081096e2 button');\n",
              "      quickchartButtonEl.style.display =\n",
              "        google.colab.kernel.accessAllowed ? 'block' : 'none';\n",
              "    })();\n",
              "  </script>\n",
              "</div>\n",
              "\n",
              "    </div>\n",
              "  </div>\n"
            ],
            "application/vnd.google.colaboratory.intrinsic+json": {
              "type": "dataframe",
              "variable_name": "data"
            }
          },
          "metadata": {},
          "execution_count": 63
        }
      ]
    },
    {
      "cell_type": "markdown",
      "source": [
        "Hemos elegido el método de feature selection: \"selección basada en la varianza\". A continuación, lo aplicaremos."
      ],
      "metadata": {
        "id": "nr3j51mQlDgn"
      }
    },
    {
      "cell_type": "code",
      "source": [
        "data_r = load_iris()\n",
        "X = data_r.data\n",
        "y = data_r.target"
      ],
      "metadata": {
        "id": "aNVRyH48lsbz"
      },
      "execution_count": 64,
      "outputs": []
    },
    {
      "cell_type": "code",
      "source": [
        "print(\"Shape original:\", X.shape)"
      ],
      "metadata": {
        "colab": {
          "base_uri": "https://localhost:8080/"
        },
        "id": "4XLc5Y3el_iB",
        "outputId": "e72ddd66-3c18-4770-f545-db3a6af35805"
      },
      "execution_count": 65,
      "outputs": [
        {
          "output_type": "stream",
          "name": "stdout",
          "text": [
            "Shape original: (150, 4)\n"
          ]
        }
      ]
    },
    {
      "cell_type": "code",
      "source": [
        "selector = VarianceThreshold(threshold=0.2)\n",
        "X_reduced = selector.fit_transform(X)"
      ],
      "metadata": {
        "id": "NHxTOtWtmFAy"
      },
      "execution_count": 66,
      "outputs": []
    },
    {
      "cell_type": "code",
      "source": [
        "print(\"Shape reducido:\", X_reduced.shape)\n"
      ],
      "metadata": {
        "colab": {
          "base_uri": "https://localhost:8080/"
        },
        "id": "QxzncI3AmH_4",
        "outputId": "ee35b9fc-f0a3-4037-efd1-92b378aefbf9"
      },
      "execution_count": 67,
      "outputs": [
        {
          "output_type": "stream",
          "name": "stdout",
          "text": [
            "Shape reducido: (150, 3)\n"
          ]
        }
      ]
    },
    {
      "cell_type": "code",
      "source": [
        "var = selector.variances_\n",
        "print(\"Varianzas de las características originales:\", var)"
      ],
      "metadata": {
        "colab": {
          "base_uri": "https://localhost:8080/"
        },
        "id": "WBW2ZQhzmLxw",
        "outputId": "6c699780-971f-4a3a-cb69-5b47183896b7"
      },
      "execution_count": 68,
      "outputs": [
        {
          "output_type": "stream",
          "name": "stdout",
          "text": [
            "Varianzas de las características originales: [0.68112222 0.18871289 3.09550267 0.57713289]\n"
          ]
        }
      ]
    },
    {
      "cell_type": "code",
      "source": [
        "selected_feat = selector.get_support(indices=True)\n",
        "print(\"Index de las características seleccionadas:\", selected_feat)"
      ],
      "metadata": {
        "colab": {
          "base_uri": "https://localhost:8080/"
        },
        "id": "1dCaeJzpmPh9",
        "outputId": "bd1cd204-d47d-4276-969d-8dae1da2872c"
      },
      "execution_count": 69,
      "outputs": [
        {
          "output_type": "stream",
          "name": "stdout",
          "text": [
            "Index de las características seleccionadas: [0 2 3]\n"
          ]
        }
      ]
    },
    {
      "cell_type": "markdown",
      "source": [
        "Para continuar con el análisis, hemos elegido un algoritmo de clasificación. Utilizaremos el campo 'HadHeartAttack' que puede tener los valores 'Yes' o 'No' (es decir: ¿Infarto? Si/No)."
      ],
      "metadata": {
        "id": "FOqS_hW6oxAw"
      }
    },
    {
      "cell_type": "markdown",
      "source": [
        "Convertimos la columna objetivo ('HadHeartAttack') a numérica"
      ],
      "metadata": {
        "id": "K9HbOQWbsncy"
      }
    },
    {
      "cell_type": "code",
      "source": [
        "data[\"HadHeartAttack\"] = data[\"HadHeartAttack\"].map({'Yes': 1, 'No': 0})"
      ],
      "metadata": {
        "id": "XrQDlaX3owzf"
      },
      "execution_count": 70,
      "outputs": []
    },
    {
      "cell_type": "markdown",
      "source": [
        "Identificamos las columnas categóricas:"
      ],
      "metadata": {
        "id": "E_HS4OK-tmXA"
      }
    },
    {
      "cell_type": "code",
      "source": [
        "categorical_cols = data.select_dtypes(include=['object']).columns"
      ],
      "metadata": {
        "id": "YR0oIdQVtpOa"
      },
      "execution_count": 71,
      "outputs": []
    },
    {
      "cell_type": "markdown",
      "source": [
        "Convertimos las columnas categóricas a valores dummy:"
      ],
      "metadata": {
        "id": "hWohROZCttAK"
      }
    },
    {
      "cell_type": "code",
      "source": [
        "data = pd.get_dummies(data, columns=categorical_cols, drop_first=True)"
      ],
      "metadata": {
        "id": "8XU0EFhptvYj"
      },
      "execution_count": 72,
      "outputs": []
    },
    {
      "cell_type": "markdown",
      "source": [
        "Obtenemos el índice de 'HadHeartAttack'\n"
      ],
      "metadata": {
        "id": "UgwjfuT7sxCI"
      }
    },
    {
      "cell_type": "code",
      "source": [
        "target_column = 'HadHeartAttack'\n",
        "target_index = data.columns.get_loc(target_column)"
      ],
      "metadata": {
        "id": "nRPjohAgswoF"
      },
      "execution_count": 73,
      "outputs": []
    },
    {
      "cell_type": "markdown",
      "source": [
        "Separamos características y etiquetas usando el índice:"
      ],
      "metadata": {
        "id": "9SEb92O4s2MY"
      }
    },
    {
      "cell_type": "code",
      "source": [
        "X = data.drop(data.columns[target_index], axis=1)\n",
        "y = data.iloc[:, target_index]"
      ],
      "metadata": {
        "id": "gu_zLncqs479"
      },
      "execution_count": 74,
      "outputs": []
    },
    {
      "cell_type": "markdown",
      "source": [
        "Normalizamos las características:"
      ],
      "metadata": {
        "id": "kJaEe9SYuEHG"
      }
    },
    {
      "cell_type": "code",
      "source": [
        "scaler = StandardScaler()\n",
        "X = scaler.fit_transform(X)"
      ],
      "metadata": {
        "id": "AujRL_KauD3F"
      },
      "execution_count": 75,
      "outputs": []
    },
    {
      "cell_type": "markdown",
      "source": [
        "Dividimos los datos en entrenamiento y prueba:"
      ],
      "metadata": {
        "id": "cBet7vSmuKKi"
      }
    },
    {
      "cell_type": "code",
      "source": [
        "X_train, X_test, y_train, y_test = train_test_split(X, y, test_size=0.3, random_state=42)"
      ],
      "metadata": {
        "id": "yBuh5wiBuOEs"
      },
      "execution_count": 76,
      "outputs": []
    },
    {
      "cell_type": "markdown",
      "source": [
        "Creamos una lista de clasificadores:"
      ],
      "metadata": {
        "id": "Jd-nqU4ouPNs"
      }
    },
    {
      "cell_type": "code",
      "source": [
        "classifiers = {\n",
        "    \"Logistic Regression\": LogisticRegression(),\n",
        "    \"K-Nearest Neighbors\": KNeighborsClassifier(),\n",
        "    \"Decision Tree\": DecisionTreeClassifier(),\n",
        "    \"Random Forest\": RandomForestClassifier(n_estimators=100),\n",
        "    \"Support Vector Machine\": SVC()\n",
        "}"
      ],
      "metadata": {
        "id": "YnPSIDlVuTId"
      },
      "execution_count": 77,
      "outputs": []
    },
    {
      "cell_type": "markdown",
      "source": [
        "Entrenamos y evaluamos cada clasificador:"
      ],
      "metadata": {
        "id": "dnwVa-LvuVwB"
      }
    },
    {
      "cell_type": "code",
      "source": [
        "for name, clf in classifiers.items():\n",
        "    clf.fit(X_train, y_train)\n",
        "    y_pred = clf.predict(X_test)\n",
        "    print(f\"Results for {name}:\")\n",
        "    print(classification_report(y_test, y_pred))\n",
        "    print(confusion_matrix(y_test, y_pred))\n",
        "    print(\"\\n\")"
      ],
      "metadata": {
        "colab": {
          "base_uri": "https://localhost:8080/"
        },
        "id": "2umGXMYGuXmK",
        "outputId": "441d4558-1e76-429f-c411-adf68e562433"
      },
      "execution_count": 78,
      "outputs": [
        {
          "output_type": "stream",
          "name": "stdout",
          "text": [
            "Results for Logistic Regression:\n",
            "              precision    recall  f1-score   support\n",
            "\n",
            "           0       0.85      0.88      0.86        25\n",
            "           1       0.25      0.20      0.22         5\n",
            "\n",
            "    accuracy                           0.77        30\n",
            "   macro avg       0.55      0.54      0.54        30\n",
            "weighted avg       0.75      0.77      0.76        30\n",
            "\n",
            "[[22  3]\n",
            " [ 4  1]]\n",
            "\n",
            "\n",
            "Results for K-Nearest Neighbors:\n",
            "              precision    recall  f1-score   support\n",
            "\n",
            "           0       0.82      0.92      0.87        25\n",
            "           1       0.00      0.00      0.00         5\n",
            "\n",
            "    accuracy                           0.77        30\n",
            "   macro avg       0.41      0.46      0.43        30\n",
            "weighted avg       0.68      0.77      0.72        30\n",
            "\n",
            "[[23  2]\n",
            " [ 5  0]]\n",
            "\n",
            "\n",
            "Results for Decision Tree:\n",
            "              precision    recall  f1-score   support\n",
            "\n",
            "           0       0.86      0.96      0.91        25\n",
            "           1       0.50      0.20      0.29         5\n",
            "\n",
            "    accuracy                           0.83        30\n",
            "   macro avg       0.68      0.58      0.60        30\n",
            "weighted avg       0.80      0.83      0.80        30\n",
            "\n",
            "[[24  1]\n",
            " [ 4  1]]\n",
            "\n",
            "\n",
            "Results for Random Forest:\n",
            "              precision    recall  f1-score   support\n",
            "\n",
            "           0       0.83      0.96      0.89        25\n",
            "           1       0.00      0.00      0.00         5\n",
            "\n",
            "    accuracy                           0.80        30\n",
            "   macro avg       0.41      0.48      0.44        30\n",
            "weighted avg       0.69      0.80      0.74        30\n",
            "\n",
            "[[24  1]\n",
            " [ 5  0]]\n",
            "\n",
            "\n",
            "Results for Support Vector Machine:\n",
            "              precision    recall  f1-score   support\n",
            "\n",
            "           0       0.83      1.00      0.91        25\n",
            "           1       0.00      0.00      0.00         5\n",
            "\n",
            "    accuracy                           0.83        30\n",
            "   macro avg       0.42      0.50      0.45        30\n",
            "weighted avg       0.69      0.83      0.76        30\n",
            "\n",
            "[[25  0]\n",
            " [ 5  0]]\n",
            "\n",
            "\n"
          ]
        },
        {
          "output_type": "stream",
          "name": "stderr",
          "text": [
            "/usr/local/lib/python3.10/dist-packages/sklearn/metrics/_classification.py:1344: UndefinedMetricWarning: Precision and F-score are ill-defined and being set to 0.0 in labels with no predicted samples. Use `zero_division` parameter to control this behavior.\n",
            "  _warn_prf(average, modifier, msg_start, len(result))\n",
            "/usr/local/lib/python3.10/dist-packages/sklearn/metrics/_classification.py:1344: UndefinedMetricWarning: Precision and F-score are ill-defined and being set to 0.0 in labels with no predicted samples. Use `zero_division` parameter to control this behavior.\n",
            "  _warn_prf(average, modifier, msg_start, len(result))\n",
            "/usr/local/lib/python3.10/dist-packages/sklearn/metrics/_classification.py:1344: UndefinedMetricWarning: Precision and F-score are ill-defined and being set to 0.0 in labels with no predicted samples. Use `zero_division` parameter to control this behavior.\n",
            "  _warn_prf(average, modifier, msg_start, len(result))\n"
          ]
        }
      ]
    },
    {
      "cell_type": "markdown",
      "source": [
        "Realizamos validación cruzada para evaluar la estabilidad del modelo:"
      ],
      "metadata": {
        "id": "kciA6CmzubJm"
      }
    },
    {
      "cell_type": "code",
      "source": [
        "for name, clf in classifiers.items():\n",
        "    scores = cross_val_score(clf, X, y, cv=5)\n",
        "    print(f\"Cross-validation scores for {name}: {scores}\")\n",
        "    print(f\"Mean cross-validation score: {scores.mean()}\\n\")"
      ],
      "metadata": {
        "colab": {
          "base_uri": "https://localhost:8080/"
        },
        "id": "x4_4NXA9ua33",
        "outputId": "4ee1396d-da1e-4b4a-e335-14b7a1c4d16e"
      },
      "execution_count": 79,
      "outputs": [
        {
          "output_type": "stream",
          "name": "stdout",
          "text": [
            "Cross-validation scores for Logistic Regression: [0.8  0.9  0.95 0.9  0.75]\n",
            "Mean cross-validation score: 0.8600000000000001\n",
            "\n",
            "Cross-validation scores for K-Nearest Neighbors: [0.9  0.9  0.85 0.85 0.8 ]\n",
            "Mean cross-validation score: 0.86\n",
            "\n",
            "Cross-validation scores for Decision Tree: [0.95 0.8  0.95 0.85 0.7 ]\n",
            "Mean cross-validation score: 0.85\n",
            "\n",
            "Cross-validation scores for Random Forest: [0.9  0.9  0.85 0.85 0.8 ]\n",
            "Mean cross-validation score: 0.86\n",
            "\n",
            "Cross-validation scores for Support Vector Machine: [0.9  0.9  0.85 0.85 0.85]\n",
            "Mean cross-validation score: 0.8699999999999999\n",
            "\n"
          ]
        }
      ]
    },
    {
      "cell_type": "markdown",
      "source": [
        "En este caso, vemos que hay, en general, mayor \"importancia\" para HeartAttack = No (o 0, de acuerdo con la transformación que realizamos algunos pasos atrás).\n",
        "Veamos, por ejemplo, en el primer resultado, \"decision tree\":\n",
        "\n",
        "Results for Decision Tree:\n",
        "              precision    recall  f1-score   support\n",
        "\n",
        "           0       0.85      0.92      0.88        25\n",
        "           1       0.33      0.20      0.25         5\n",
        "\n",
        "Como podemos ver, el \"score\" para 0 es mayor, como así también todos los demás valores. Veamos, ahora, qué significan estos resultados:\n",
        "\n",
        "* En el 85% de los casos, el modelo predijo correctamente Infarto = No.\n",
        "* El 92% de las veces que el individuo verdaderamente no tuvo un infarto, el modelo predijo correctamente.\n",
        "\n"
      ],
      "metadata": {
        "id": "v-TE4NfTYxBX"
      }
    },
    {
      "cell_type": "markdown",
      "source": [
        "A continuación realizaremos un gráfico, a fin de corroborar algunos de los resultados mencionados."
      ],
      "metadata": {
        "id": "LGHO-0yTa5-7"
      }
    },
    {
      "cell_type": "code",
      "source": [
        "counts = data['HadHeartAttack'].value_counts()\n",
        "\n",
        "plt.figure(figsize=(8, 6))\n",
        "ax = counts.plot(kind='bar', color=['green', 'red'])\n",
        "\n",
        "plt.title('Ocurrencias de Ataques Cardíacos')\n",
        "plt.xlabel('HadHeartAttack')\n",
        "plt.ylabel('Cantidad de Ocurrencias')\n",
        "\n",
        "plt.xticks(range(len(counts)), ['No', 'Yes'], rotation=0)\n",
        "\n",
        "plt.show()"
      ],
      "metadata": {
        "colab": {
          "base_uri": "https://localhost:8080/",
          "height": 565
        },
        "id": "ZcclmPMUa5d8",
        "outputId": "688ac1d2-433e-4f51-d1c7-9e9847bc2114"
      },
      "execution_count": 80,
      "outputs": [
        {
          "output_type": "display_data",
          "data": {
            "text/plain": [
              "<Figure size 800x600 with 1 Axes>"
            ],
            "image/png": "[encoded data removed]"
          },
          "metadata": {}
        }
      ]
    }
  ]
}